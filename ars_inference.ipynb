{
  "nbformat": 4,
  "nbformat_minor": 0,
  "metadata": {
    "colab": {
      "provenance": [],
      "collapsed_sections": [],
      "authorship_tag": "ABX9TyMAQyIUhRjMJDH0l7dxEF78",
      "include_colab_link": true
    },
    "kernelspec": {
      "name": "python3",
      "display_name": "Python 3"
    },
    "language_info": {
      "name": "python"
    }
  },
  "cells": [
    {
      "cell_type": "markdown",
      "metadata": {
        "id": "view-in-github",
        "colab_type": "text"
      },
      "source": [
        "<a href=\"https://colab.research.google.com/github/alvinnebula/amazon-review-summarizer/blob/main/ars_inference.ipynb\" target=\"_parent\"><img src=\"https://colab.research.google.com/assets/colab-badge.svg\" alt=\"Open In Colab\"/></a>"
      ]
    },
    {
      "cell_type": "code",
      "execution_count": 1,
      "metadata": {
        "colab": {
          "base_uri": "https://localhost:8080/"
        },
        "id": "BLJ1U1_VTfBq",
        "outputId": "599d9239-79de-411d-b5ad-9ce71f859f9a"
      },
      "outputs": [
        {
          "output_type": "stream",
          "name": "stdout",
          "text": [
            "Looking in indexes: https://pypi.org/simple, https://us-python.pkg.dev/colab-wheels/public/simple/\n",
            "Requirement already satisfied: transformers in /usr/local/lib/python3.7/dist-packages (4.24.0)\n",
            "Requirement already satisfied: regex!=2019.12.17 in /usr/local/lib/python3.7/dist-packages (from transformers) (2022.6.2)\n",
            "Requirement already satisfied: importlib-metadata in /usr/local/lib/python3.7/dist-packages (from transformers) (4.13.0)\n",
            "Requirement already satisfied: numpy>=1.17 in /usr/local/lib/python3.7/dist-packages (from transformers) (1.21.6)\n",
            "Requirement already satisfied: filelock in /usr/local/lib/python3.7/dist-packages (from transformers) (3.8.0)\n",
            "Requirement already satisfied: tqdm>=4.27 in /usr/local/lib/python3.7/dist-packages (from transformers) (4.64.1)\n",
            "Requirement already satisfied: pyyaml>=5.1 in /usr/local/lib/python3.7/dist-packages (from transformers) (6.0)\n",
            "Requirement already satisfied: requests in /usr/local/lib/python3.7/dist-packages (from transformers) (2.23.0)\n",
            "Requirement already satisfied: tokenizers!=0.11.3,<0.14,>=0.11.1 in /usr/local/lib/python3.7/dist-packages (from transformers) (0.13.2)\n",
            "Requirement already satisfied: huggingface-hub<1.0,>=0.10.0 in /usr/local/lib/python3.7/dist-packages (from transformers) (0.10.1)\n",
            "Requirement already satisfied: packaging>=20.0 in /usr/local/lib/python3.7/dist-packages (from transformers) (21.3)\n",
            "Requirement already satisfied: typing-extensions>=3.7.4.3 in /usr/local/lib/python3.7/dist-packages (from huggingface-hub<1.0,>=0.10.0->transformers) (4.1.1)\n",
            "Requirement already satisfied: pyparsing!=3.0.5,>=2.0.2 in /usr/local/lib/python3.7/dist-packages (from packaging>=20.0->transformers) (3.0.9)\n",
            "Requirement already satisfied: zipp>=0.5 in /usr/local/lib/python3.7/dist-packages (from importlib-metadata->transformers) (3.10.0)\n",
            "Requirement already satisfied: urllib3!=1.25.0,!=1.25.1,<1.26,>=1.21.1 in /usr/local/lib/python3.7/dist-packages (from requests->transformers) (1.24.3)\n",
            "Requirement already satisfied: certifi>=2017.4.17 in /usr/local/lib/python3.7/dist-packages (from requests->transformers) (2022.9.24)\n",
            "Requirement already satisfied: chardet<4,>=3.0.2 in /usr/local/lib/python3.7/dist-packages (from requests->transformers) (3.0.4)\n",
            "Requirement already satisfied: idna<3,>=2.5 in /usr/local/lib/python3.7/dist-packages (from requests->transformers) (2.10)\n"
          ]
        }
      ],
      "source": [
        "!pip install transformers"
      ]
    },
    {
      "cell_type": "markdown",
      "source": [
        "### Model Loading"
      ],
      "metadata": {
        "id": "5_-VurvJT1du"
      }
    },
    {
      "cell_type": "code",
      "source": [
        "from transformers import pipeline\n",
        "ars = pipeline(\"summarization\", model = \"mabrouk/amazon-review-summarizer-bart\")"
      ],
      "metadata": {
        "id": "4bEbG4wITj-L"
      },
      "execution_count": 2,
      "outputs": []
    },
    {
      "cell_type": "markdown",
      "source": [
        "### Inferencing on Amazon Reviews"
      ],
      "metadata": {
        "id": "p15aafggTxAr"
      }
    },
    {
      "cell_type": "code",
      "source": [
        "def summarizer(review):\n",
        "  summary = ars(review, min_length = 60)[0][\"summary_text\"]\n",
        "  summary_rev = summary[::-1]\n",
        "  index_rev = summary_rev.find(\".\")\n",
        "  summary_new = summary_rev[index_rev:][::-1]\n",
        "  return summary_new"
      ],
      "metadata": {
        "id": "i5qzxG4oWOdq"
      },
      "execution_count": 3,
      "outputs": []
    },
    {
      "cell_type": "code",
      "source": [
        "review1 = \"\"\"I looked forward to working my way through this book as I have heard Robert Loredo speak many times, and I always enjoy how he makes complex problems understandable. This book does not disappoint!\n",
        "In the first section, he looks at the IBM Quantum Experience and holds your hand and helps you get started and program your first circuits. Then he teaches you how to use a lab notebook. These are all important pieces to master when starting quantum programming. In the second section he talks about quantum theory and introduces you to the basics of quantum computing. Section three introduces qiskit and all of the elements that make it up—terra, aer, ignis and aqua—and finally finishes with a section on understanding and applying quantum algorithms.\n",
        "The book is well written, and easy to follow. I loved that there is a quiz at the end of every chapter, and the answers to the quiz are in the back of the book so you can check and see how well you understand the chapter. In Appendix A, Robert lists resources available for IBM Qiskit and this is the most comprehensive list of resources that I have seen—it is worth buying the book just for this list!\n",
        "This book is a great resource, and a great read, to learn about quantum and start writing your first programs, or to brush up on your programming skills. It is a great gift, and also a great tool for expanding your knowledge of quantum computing.\"\"\""
      ],
      "metadata": {
        "id": "DpHw4l1rTwSc"
      },
      "execution_count": 4,
      "outputs": []
    },
    {
      "cell_type": "code",
      "source": [
        "review2 = \"\"\"I wanted a simple, fast computer to use for one or two things, and this one came with 63GB of stuff I don't want or need already loaded. Just to turn on it the first time, I had to change various passwords for programs and keep attempting to access a Microsoft account that I never use. It would not let me boot up without trying me to sell me on Microsoft Edge like a salesman who wouldn't leave. Did I buy it for this? Why couldn't I simply buy a computer? All the junk made it slow to boot up, and the experience made it seem that, no, it was not my computer at all, but an intrusive device whose features I might be allowed to use on certain conditions, if I behaved properly. It was sluggish, finicky, and all-in-all like having a very old PC you've never managed to clean up from years of downloads. I sent it back. Don't waste your time and money.\"\"\""
      ],
      "metadata": {
        "id": "_F8LAYl_Wc7G"
      },
      "execution_count": 5,
      "outputs": []
    },
    {
      "cell_type": "code",
      "source": [
        "review3 = \"\"\"In the attached picture is the kind of dirt/dust that accumulates in my house. I ordered one of those expensive Dysons with the canister, worked great until the power button broke and the other thing I didn't like was when emptying the canister and those goes for all the canister vacuums I've tried, from hoover, dirt devil, Bissell, that when you empty it that damn dust comes flying right back at you. I've gone through vacuums they last anywhere between 4-6 months, that expensive 600 dollar Dyson lasted me a couple years but now that the button is broke I can even get it fixed how frustrating. Well I didn't want to do another cannisters vacuum because I was tired of having to shield my face when emptying it or changing out the filters constantly. I have 7 outdoor/indoor kitties, 2 dogs, 2 chinchillas and 2 rabbits along with goats and some birds outside. I'm not overly sensitive to animal hair/dander but that dust if I dont keep up on it kills me, so you can imagine how I don't want to deal with emptying a canister full of cat/dog animal dander, cat litter dust, fine chinchilla hair or dust on top of the regular outside dust the dogs track in. I also didn't want to spend money on an expensive upright vacuum again. BUY THIS VACUUM. This little power sucker of a vacuum has been amazing. It sucks better than my shop vac and the bags are a godsend. No more exploding dust in my face when I empty it. I love it. Yeah it can be a bit tedious with the rug attachment, I've noticed you gotta lift it up slightly to keep those wheels rolling but hands down this thing is an absolute beast. Let me tell you how desperate I was to get a vacuum that worked without the canister I was even looking at industrial vacuums. I will buy this or one similar again and plan on coughing up the money eventually for an upright bag vacuum. You don't even know how much I wish we kepty mom's old bag vacuum that still worked we just didnt want to buy the bags anymore. If you have pets get a vacuum that you can use the bags on.\"\"\""
      ],
      "metadata": {
        "id": "pmHCAcN4WdVV"
      },
      "execution_count": 6,
      "outputs": []
    },
    {
      "cell_type": "code",
      "source": [
        "print(\"Book Review \\n\")\n",
        "print(\"Text: \\n\", review1, \"\\n\")\n",
        "print(\"Summary: \\n\", summarizer(review1))"
      ],
      "metadata": {
        "colab": {
          "base_uri": "https://localhost:8080/"
        },
        "id": "2NBGSMWIUd1c",
        "outputId": "a9d6a429-b7ad-4ac9-b0c9-4783025e338d"
      },
      "execution_count": 7,
      "outputs": [
        {
          "output_type": "stream",
          "name": "stdout",
          "text": [
            "Book Review \n",
            "\n",
            "Text: \n",
            " I looked forward to working my way through this book as I have heard Robert Loredo speak many times, and I always enjoy how he makes complex problems understandable. This book does not disappoint!\n",
            "In the first section, he looks at the IBM Quantum Experience and holds your hand and helps you get started and program your first circuits. Then he teaches you how to use a lab notebook. These are all important pieces to master when starting quantum programming. In the second section he talks about quantum theory and introduces you to the basics of quantum computing. Section three introduces qiskit and all of the elements that make it up—terra, aer, ignis and aqua—and finally finishes with a section on understanding and applying quantum algorithms.\n",
            "The book is well written, and easy to follow. I loved that there is a quiz at the end of every chapter, and the answers to the quiz are in the back of the book so you can check and see how well you understand the chapter. In Appendix A, Robert lists resources available for IBM Qiskit and this is the most comprehensive list of resources that I have seen—it is worth buying the book just for this list!\n",
            "This book is a great resource, and a great read, to learn about quantum and start writing your first programs, or to brush up on your programming skills. It is a great gift, and also a great tool for expanding your knowledge of quantum computing. \n",
            "\n",
            "Summary: \n",
            " This book is a great resource, and a great read, to learn about quantum and start writing your first programs, or to brush up on your programming skills. I loved that there is a quiz at the end of every chapter so you can check and see how well you understand the chapter.\n"
          ]
        }
      ]
    },
    {
      "cell_type": "code",
      "source": [
        "print(\"Laptop Review \\n\")\n",
        "print(\"Text: \\n\", review2, \"\\n\")\n",
        "print(\"Summary: \\n\", summarizer(review2))"
      ],
      "metadata": {
        "colab": {
          "base_uri": "https://localhost:8080/"
        },
        "id": "j5kNwJzZVQTD",
        "outputId": "48ab2c87-ccb3-4a30-dc3c-ac13127f6ce2"
      },
      "execution_count": 8,
      "outputs": [
        {
          "output_type": "stream",
          "name": "stdout",
          "text": [
            "Laptop Review \n",
            "\n",
            "Text: \n",
            " I wanted a simple, fast computer to use for one or two things, and this one came with 63GB of stuff I don't want or need already loaded. Just to turn on it the first time, I had to change various passwords for programs and keep attempting to access a Microsoft account that I never use. It would not let me boot up without trying me to sell me on Microsoft Edge like a salesman who wouldn't leave. Did I buy it for this? Why couldn't I simply buy a computer? All the junk made it slow to boot up, and the experience made it seem that, no, it was not my computer at all, but an intrusive device whose features I might be allowed to use on certain conditions, if I behaved properly. It was sluggish, finicky, and all-in-all like having a very old PC you've never managed to clean up from years of downloads. I sent it back. Don't waste your time and money. \n",
            "\n",
            "Summary: \n",
            " Don't waste your time and money on this computer. It's junk, not a computer, just an intrusive device that you might be allowed to use on certain conditions, if you behaved properly. I sent it back, it's a waste of my time and my money, and it's not worth the money.\n"
          ]
        }
      ]
    },
    {
      "cell_type": "code",
      "source": [
        "print(\"Vacuum Cleaner Review \\n\")\n",
        "print(\"Text: \\n\", review3, \"\\n\")\n",
        "print(\"Summary: \\n\", summarizer(review3))"
      ],
      "metadata": {
        "colab": {
          "base_uri": "https://localhost:8080/"
        },
        "id": "HxqnHzKfXXR8",
        "outputId": "a1905942-9ec9-454b-89ef-c54162eae584"
      },
      "execution_count": 9,
      "outputs": [
        {
          "output_type": "stream",
          "name": "stdout",
          "text": [
            "Vacuum Cleaner Review \n",
            "\n",
            "Text: \n",
            " In the attached picture is the kind of dirt/dust that accumulates in my house. I ordered one of those expensive Dysons with the canister, worked great until the power button broke and the other thing I didn't like was when emptying the canister and those goes for all the canister vacuums I've tried, from hoover, dirt devil, Bissell, that when you empty it that damn dust comes flying right back at you. I've gone through vacuums they last anywhere between 4-6 months, that expensive 600 dollar Dyson lasted me a couple years but now that the button is broke I can even get it fixed how frustrating. Well I didn't want to do another cannisters vacuum because I was tired of having to shield my face when emptying it or changing out the filters constantly. I have 7 outdoor/indoor kitties, 2 dogs, 2 chinchillas and 2 rabbits along with goats and some birds outside. I'm not overly sensitive to animal hair/dander but that dust if I dont keep up on it kills me, so you can imagine how I don't want to deal with emptying a canister full of cat/dog animal dander, cat litter dust, fine chinchilla hair or dust on top of the regular outside dust the dogs track in. I also didn't want to spend money on an expensive upright vacuum again. BUY THIS VACUUM. This little power sucker of a vacuum has been amazing. It sucks better than my shop vac and the bags are a godsend. No more exploding dust in my face when I empty it. I love it. Yeah it can be a bit tedious with the rug attachment, I've noticed you gotta lift it up slightly to keep those wheels rolling but hands down this thing is an absolute beast. Let me tell you how desperate I was to get a vacuum that worked without the canister I was even looking at industrial vacuums. I will buy this or one similar again and plan on coughing up the money eventually for an upright bag vacuum. You don't even know how much I wish we kepty mom's old bag vacuum that still worked we just didnt want to buy the bags anymore. If you have pets get a vacuum that you can use the bags on. \n",
            "\n",
            "Summary: \n",
            " BUY THIS VACUUM. It sucks better than my shop vac and the bags are a godsend. No more exploding dust in my face when I empty it. I love it. Yeah it can be a bit tedious with the rug attachment, I've noticed you gotta lift ...\n"
          ]
        }
      ]
    }
  ]
}
